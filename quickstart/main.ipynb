{
 "cells": [
  {
   "cell_type": "markdown",
   "metadata": {},
   "source": [
    "# Environ\n"
   ]
  },
  {
   "cell_type": "markdown",
   "metadata": {},
   "source": []
  },
  {
   "cell_type": "code",
   "execution_count": 2,
   "metadata": {},
   "outputs": [
    {
     "name": "stdout",
     "output_type": "stream",
     "text": [
      "/foo\n",
      "\n",
      "localhost\n"
     ]
    }
   ],
   "source": [
    "from werkzeug.test import create_environ\n",
    "\n",
    "environ = create_environ('/foo', 'http://localhost:8080/')\n",
    "\n",
    "print(environ['PATH_INFO'])\n",
    "print(environ['SCRIPT_NAME'])\n",
    "print(environ['SERVER_NAME'])"
   ]
  },
  {
   "cell_type": "markdown",
   "metadata": {},
   "source": []
  },
  {
   "cell_type": "markdown",
   "metadata": {},
   "source": [
    "# Request"
   ]
  },
  {
   "cell_type": "code",
   "execution_count": 3,
   "metadata": {},
   "outputs": [
    {
     "name": "stdout",
     "output_type": "stream",
     "text": [
      "use request\n",
      "/foo\n",
      "\n",
      "localhost:8080\n",
      "http://localhost:8080/foo\n",
      "GET\n"
     ]
    }
   ],
   "source": [
    "\n",
    "from werkzeug.wrappers import Request\n",
    "\n",
    "request = Request(environ)\n",
    "print(\"use request\")\n",
    "print(request.path)\n",
    "print(request.script_root)\n",
    "print(request.host)\n",
    "print(request.url)\n",
    "print(request.method)"
   ]
  },
  {
   "cell_type": "markdown",
   "metadata": {},
   "source": [
    "## create request from value"
   ]
  },
  {
   "cell_type": "code",
   "execution_count": 4,
   "metadata": {},
   "outputs": [
    {
     "name": "stdout",
     "output_type": "stream",
     "text": [
      "from_values\n",
      "POST\n",
      "dict_keys(['foo', 'blah'])\n",
      "blafasel\n"
     ]
    },
    {
     "data": {
      "text/plain": [
       "'this is encoded form data'"
      ]
     },
     "execution_count": 4,
     "metadata": {},
     "output_type": "execute_result"
    }
   ],
   "source": [
    "from io import StringIO\n",
    "\n",
    "data = \"name=this+is+encoded+form+data&another_key=another+one\"\n",
    "request = Request.from_values(query_string='foo=bar&blah=blafasel',\n",
    "                              content_length=len(data),\n",
    "                              input_stream=StringIO(data),\n",
    "                              content_type='application/x-www-form-urlencoded',\n",
    "                              method='POST')\n",
    "print(\"from_values\")\n",
    "print(request.method)\n",
    "print(request.args.keys())\n",
    "print(request.args['blah'])\n",
    "request.form['name']"
   ]
  },
  {
   "cell_type": "markdown",
   "metadata": {},
   "source": [
    "# Response"
   ]
  },
  {
   "cell_type": "code",
   "execution_count": 5,
   "metadata": {},
   "outputs": [],
   "source": [
    "from werkzeug.wrappers import Response\n",
    "response = Response(\"Hello World!\")\n",
    "response.headers['content-type']\n",
    "response.data\n",
    "response.headers['content-length'] = len(response.data)"
   ]
  },
  {
   "cell_type": "code",
   "execution_count": null,
   "metadata": {},
   "outputs": [],
   "source": []
  }
 ],
 "metadata": {
  "interpreter": {
   "hash": "dcae9dac41baf75deab832747154a033571fe9dae462a96e1bb2745888fdebb2"
  },
  "kernelspec": {
   "display_name": "Python 3.10.4 ('werkzeug')",
   "language": "python",
   "name": "python3"
  },
  "language_info": {
   "codemirror_mode": {
    "name": "ipython",
    "version": 3
   },
   "file_extension": ".py",
   "mimetype": "text/x-python",
   "name": "python",
   "nbconvert_exporter": "python",
   "pygments_lexer": "ipython3",
   "version": "3.10.0"
  },
  "orig_nbformat": 4
 },
 "nbformat": 4,
 "nbformat_minor": 2
}
